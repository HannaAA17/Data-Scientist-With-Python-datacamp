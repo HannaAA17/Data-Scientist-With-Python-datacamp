{
  "nbformat": 4,
  "nbformat_minor": 0,
  "metadata": {
    "colab": {
      "name": "Data Camp.ipynb",
      "provenance": [],
      "collapsed_sections": [
        "T3gZfHCY1vKL",
        "bX6_C2LmilBO",
        "mRJ-4Fc-iolq",
        "zmov4jUTitlr",
        "HjHZgA-tjFtI",
        "Sv8Hq-O5jeRD",
        "0S8pjiHJldpM",
        "aO9RYIkGl8yP",
        "kP2PaDXSr39j",
        "M2OQnN6Gr6Yo",
        "_TL9g8-6t1CZ",
        "VXRV32cavCMn",
        "jGi7JfKow72c",
        "udFkP6ajxXQY",
        "Rnz5yZlaVjsF",
        "-SthOuwebcE3",
        "zrKuOQjPbZpj",
        "0u6__s8sbUoS",
        "WrOb6Fl-be6c",
        "P_oyaE6Uc1l3",
        "vpBXWLFAvzEO",
        "NDctZWfNzNm2",
        "w1aUxLQNzSY5",
        "eKxx6YMd5wwQ",
        "5DC7LWYQ5qNE",
        "E828dHUX51mT",
        "kDc3ulTF6I4J",
        "BBrK9VPy8Ama",
        "-RJDqBKX9PbM",
        "0MH8DvBh-vKv",
        "K1KfdwROAwIC",
        "xNmuXvDTDipk",
        "_zrKpwizDnOn",
        "bScA43KjEvKF",
        "kN7iPLUpE1eL",
        "OJPs68ZZGsdP",
        "9bug6pl9G66-",
        "owjq9bqDHnjM",
        "7TSBtXQ2Ipf7",
        "fptFxNzSJ2yG",
        "SOdcjF6CcKlr",
        "VBobFTrTcPX6",
        "wegOfO-rdTca",
        "Qrg0HbPIfRzo",
        "XZwbpyt1fWox",
        "_3JGREYXiN3F",
        "db3Z_b9CmTBY",
        "kATQgawOnPx4",
        "6jOP5f4GobJE",
        "4tlW1ljKp5Bt",
        "UoeYJhazrAps",
        "3-UcXaFyrDWf",
        "j2rfhwrIuSd5",
        "zc8DXbfvuHFh",
        "MNqrDRs8uNoP",
        "GnOuZ1u8E_LJ"
      ],
      "toc_visible": true,
      "authorship_tag": "ABX9TyORCu6JwXfmFpzZRDeRTkaw",
      "include_colab_link": true
    },
    "kernelspec": {
      "name": "python3",
      "display_name": "Python 3"
    },
    "language_info": {
      "name": "python"
    }
  },
  "cells": [
    {
      "cell_type": "markdown",
      "metadata": {
        "id": "view-in-github",
        "colab_type": "text"
      },
      "source": [
        "<a href=\"https://colab.research.google.com/github/HannaAA17/Data-Scientist-With-Python-datacamp/blob/main/Data_Camp.ipynb\" target=\"_parent\"><img src=\"https://colab.research.google.com/assets/colab-badge.svg\" alt=\"Open In Colab\"/></a>"
      ]
    },
    {
      "cell_type": "markdown",
      "source": [
        "# Introduction to Importing Data in Python"
      ],
      "metadata": {
        "id": "T3gZfHCY1vKL"
      }
    },
    {
      "cell_type": "code",
      "source": [
        "%%capture XxXxX\n",
        "!pip install sas7bdat\n",
        "!gdown --id 1U7w21ixpzcs72pbllexbuXBkOxXH_U48\n",
        "!unzip datasets.zip"
      ],
      "metadata": {
        "id": "Xcz-xT-Q2Ukt"
      },
      "execution_count": null,
      "outputs": []
    },
    {
      "cell_type": "code",
      "source": [
        "# Import the course packages\n",
        "import pandas as pd\n",
        "import numpy as np\n",
        "import matplotlib.pyplot as plt\n",
        "import scipy.io\n",
        "import h5py\n",
        "from sas7bdat import SAS7BDAT\n",
        "from sqlalchemy import create_engine\n",
        "import pickle"
      ],
      "metadata": {
        "id": "gaxJntd91y-L"
      },
      "execution_count": null,
      "outputs": []
    },
    {
      "cell_type": "markdown",
      "source": [
        "## Introduction and flat files"
      ],
      "metadata": {
        "id": "bX6_C2LmilBO"
      }
    },
    {
      "cell_type": "markdown",
      "source": [
        "### Using NumPy to import flat files"
      ],
      "metadata": {
        "id": "mRJ-4Fc-iolq"
      }
    },
    {
      "cell_type": "code",
      "source": [
        "# Import package\n",
        "import numpy as np\n",
        "\n",
        "# Assign filename to variable: file\n",
        "file = 'digits.csv'\n",
        "\n",
        "# Load file as array: digits\n",
        "digits = np.loadtxt(file, delimiter=',')\n",
        "\n",
        "# Print datatype of digits\n",
        "print(type(digits))\n",
        "\n",
        "# Select and reshape a row\n",
        "im = digits[21, 1:]\n",
        "im_sq = np.reshape(im, (28, 28))\n",
        "\n",
        "# Plot reshaped data (matplotlib.pyplot already loaded as plt)\n",
        "plt.imshow(im_sq, cmap='Greys', interpolation='nearest')\n",
        "plt.show()\n"
      ],
      "metadata": {
        "id": "YOVGGnvnioSg"
      },
      "execution_count": null,
      "outputs": []
    },
    {
      "cell_type": "markdown",
      "source": [
        "### Customizing your NumPy import"
      ],
      "metadata": {
        "id": "zmov4jUTitlr"
      }
    },
    {
      "cell_type": "code",
      "source": [
        "# Import numpy\n",
        "import numpy as np\n",
        "\n",
        "# Assign the filename: file\n",
        "file = 'digits_header.txt'\n",
        "\n",
        "# Load the data: data\n",
        "data = np.loadtxt(file, delimiter='\\t', skiprows=1, usecols=[0, 2])\n",
        "\n",
        "# Print data\n",
        "print(data)\n"
      ],
      "metadata": {
        "id": "yUL2S2bXi-jC"
      },
      "execution_count": null,
      "outputs": []
    },
    {
      "cell_type": "markdown",
      "source": [
        "### Importing different datatypes"
      ],
      "metadata": {
        "id": "HjHZgA-tjFtI"
      }
    },
    {
      "cell_type": "code",
      "source": [
        "# Assign filename: file\n",
        "file = 'seaslug.txt'\n",
        "\n",
        "# Import file: data\n",
        "data = np.loadtxt(file, delimiter='\\t', dtype=str)\n",
        "\n",
        "# Print the first element of data\n",
        "print(data[0])\n",
        "\n",
        "# Import data as floats and skip the first row: data_float\n",
        "data_float = np.loadtxt(file, delimiter='\\t', dtype=float, skiprows=1)\n",
        "\n",
        "# Print the 10th element of data_float\n",
        "print(data_float[9])\n",
        "\n",
        "# Plot a scatterplot of the data\n",
        "plt.scatter(data_float[:, 0], data_float[:, 1])\n",
        "plt.xlabel('time (min.)')\n",
        "plt.ylabel('percentage of larvae')\n",
        "plt.show()\n"
      ],
      "metadata": {
        "id": "LG7V8usijcmv"
      },
      "execution_count": null,
      "outputs": []
    },
    {
      "cell_type": "markdown",
      "source": [
        "### Working with mixed datatypes"
      ],
      "metadata": {
        "id": "Sv8Hq-O5jeRD"
      }
    },
    {
      "cell_type": "code",
      "source": [
        "data = np.genfromtxt('titanic.csv', delimiter=',', names=True, dtype=None)"
      ],
      "metadata": {
        "id": "EbYnQB36j2te"
      },
      "execution_count": null,
      "outputs": []
    },
    {
      "cell_type": "code",
      "source": [
        "# Assign the filename: file\n",
        "file = 'titanic.csv'\n",
        "\n",
        "# Import file using np.recfromcsv: d, same as data\n",
        "d = np.recfromcsv(file)\n",
        "\n",
        "# Print out first three entries of d\n",
        "print(d[:3])\n"
      ],
      "metadata": {
        "id": "Q94BJqWej3z9"
      },
      "execution_count": null,
      "outputs": []
    },
    {
      "cell_type": "markdown",
      "source": [
        "### Using pandas to import flat files as DataFrames"
      ],
      "metadata": {
        "id": "0S8pjiHJldpM"
      }
    },
    {
      "cell_type": "code",
      "source": [
        "# Assign the filename: file\n",
        "file = 'digits.csv'\n",
        "\n",
        "# Read the first 5 rows of the file into a DataFrame: data\n",
        "data = pd.read_csv(file, nrows=5, header=None)\n",
        "\n",
        "# Build a numpy array from the DataFrame: data_array\n",
        "data_array = data.values\n",
        "\n",
        "# Print the datatype of data_array to the shell\n",
        "print(type(data_array))"
      ],
      "metadata": {
        "id": "rCtFyU9_lc9I"
      },
      "execution_count": null,
      "outputs": []
    },
    {
      "cell_type": "markdown",
      "source": [
        "### Customizing your pandas import"
      ],
      "metadata": {
        "id": "aO9RYIkGl8yP"
      }
    },
    {
      "cell_type": "code",
      "source": [
        "# Import matplotlib.pyplot as plt\n",
        "import matplotlib.pyplot as plt\n",
        "\n",
        "# Assign filename: file\n",
        "file = 'titanic_corrupt.txt'\n",
        "\n",
        "# Import file: data\n",
        "data = pd.read_csv(file, sep='\\t', comment='#', na_values='Nothing')\n",
        "\n",
        "# Print the head of the DataFrame\n",
        "print(data.head())\n",
        "\n",
        "# Plot 'Age' variable in a histogram\n",
        "pd.DataFrame.hist(data[['Age']])\n",
        "plt.xlabel('Age (years)')\n",
        "plt.ylabel('count')\n",
        "plt.show()\n"
      ],
      "metadata": {
        "id": "Q51z8A8Ul9wc"
      },
      "execution_count": null,
      "outputs": []
    },
    {
      "cell_type": "markdown",
      "source": [
        "## Importing data from other file types"
      ],
      "metadata": {
        "id": "kP2PaDXSr39j"
      }
    },
    {
      "cell_type": "markdown",
      "source": [
        "### Excel files"
      ],
      "metadata": {
        "id": "M2OQnN6Gr6Yo"
      }
    },
    {
      "cell_type": "code",
      "source": [
        "# Import pandas\n",
        "import pandas as pd\n",
        "\n",
        "# Assign spreadsheet filename: file\n",
        "file = 'battledeath.xlsx'\n",
        "\n",
        "# Load spreadsheet: xls\n",
        "xls = pd.ExcelFile(file)\n",
        "\n",
        "# Print sheet names\n",
        "print(xls.sheet_names)\n"
      ],
      "metadata": {
        "id": "TFklsIvEr9eT"
      },
      "execution_count": null,
      "outputs": []
    },
    {
      "cell_type": "code",
      "source": [
        "# Load a sheet into a DataFrame by name: df1\n",
        "df1 = xls.parse('2004')\n",
        "\n",
        "# Print the head of the DataFrame df1\n",
        "print(df1.head())\n",
        "\n",
        "# Load a sheet into a DataFrame by index: df2\n",
        "df2 = xls.parse(0)\n",
        "\n",
        "# Print the head of the DataFrame df2\n",
        "print(df2.head())"
      ],
      "metadata": {
        "id": "6Ml-XVa-sDV5"
      },
      "execution_count": null,
      "outputs": []
    },
    {
      "cell_type": "code",
      "source": [
        "# Parse the first sheet and rename the columns: df1\n",
        "df1 = xls.parse(0, skiprows=1, names=['Country', 'AAM due to War (2002)'])\n",
        "\n",
        "# Print the head of the DataFrame df1\n",
        "print(df1.head())\n",
        "\n",
        "# Parse the first column of the second sheet and rename the column: df2\n",
        "df2 = xls.parse(1, usecols=[1], skiprows=1, names=['Country'])\n",
        "\n",
        "# Print the head of the DataFrame df2\n",
        "print(df2.head())"
      ],
      "metadata": {
        "id": "Pj3Snqlosnwp"
      },
      "execution_count": null,
      "outputs": []
    },
    {
      "cell_type": "code",
      "source": [
        "# Parse the first sheet and rename the columns: df1\n",
        "df1 = xls.parse(0, skiprows=[0], names=['Country', 'AAM due to War (2002)'])\n",
        "\n",
        "# Print the head of the DataFrame df1\n",
        "print(df1.head())\n",
        "\n",
        "# Parse the first column of the second sheet and rename the column: df2\n",
        "df2 = xls.parse(1, usecols=[0], skiprows=[0], names=['Country'])\n",
        "\n",
        "# Print the head of the DataFrame df2\n",
        "print(df2.head())\n"
      ],
      "metadata": {
        "id": "sMZX8JLIs-eB"
      },
      "execution_count": null,
      "outputs": []
    },
    {
      "cell_type": "markdown",
      "source": [
        "### SAS files"
      ],
      "metadata": {
        "id": "_TL9g8-6t1CZ"
      }
    },
    {
      "cell_type": "code",
      "source": [
        "# Import sas7bdat package\n",
        "from sas7bdat import SAS7BDAT\n",
        "\n",
        "# Save file to a DataFrame: df_sas\n",
        "with SAS7BDAT('sales.sas7bdat') as file:\n",
        "    df_sas = file.to_data_frame()\n",
        "\n",
        "# Print head of DataFrame\n",
        "print(df_sas.head())\n",
        "\n",
        "# Plot histogram of DataFrame features (pandas and pyplot already imported)\n",
        "pd.DataFrame.hist(df_sas[['P']])\n",
        "plt.ylabel('count')\n",
        "plt.show()"
      ],
      "metadata": {
        "id": "4e3EhxJSt2tI"
      },
      "execution_count": null,
      "outputs": []
    },
    {
      "cell_type": "code",
      "source": [
        "# Import pandas\n",
        "import pandas as pd\n",
        "\n",
        "# Load Stata file into a pandas DataFrame: df\n",
        "df = pd.read_stata('disarea.dta')\n",
        "\n",
        "# Print the head of the DataFrame df\n",
        "print(df.head())\n",
        "\n",
        "# Plot histogram of one column of the DataFrame\n",
        "pd.DataFrame.hist(df[['disa10']])\n",
        "plt.xlabel('Extent of disease')\n",
        "plt.ylabel('Number of countries')\n",
        "plt.show()\n"
      ],
      "metadata": {
        "id": "lWg91xD6uJoJ"
      },
      "execution_count": null,
      "outputs": []
    },
    {
      "cell_type": "markdown",
      "source": [
        "### h5py files"
      ],
      "metadata": {
        "id": "VXRV32cavCMn"
      }
    },
    {
      "cell_type": "code",
      "source": [
        "# Import packages\n",
        "import numpy as np\n",
        "import h5py\n",
        "\n",
        "# Assign filename: file\n",
        "file = 'LIGO_data.hdf5'\n",
        "\n",
        "# Load file: data\n",
        "data = h5py.File(file, 'r')\n",
        "\n",
        "# Print the datatype of the loaded file\n",
        "print(type(data))\n",
        "\n",
        "# Print the keys of the file\n",
        "for key in data.keys():\n",
        "    print(key)\n"
      ],
      "metadata": {
        "id": "Kj6-OQyFvI2z"
      },
      "execution_count": null,
      "outputs": []
    },
    {
      "cell_type": "code",
      "source": [
        "# Get the HDF5 group: group\n",
        "group = data['strain']\n",
        "\n",
        "# Check out keys of group\n",
        "for key in group.keys():\n",
        "    print(key)\n",
        "\n",
        "# Set variable equal to time series data: strain\n",
        "strain = np.array(data['strain']['Strain'])\n",
        "\n",
        "# Set number of time points to sample: num_samples\n",
        "num_samples = 10000\n",
        "\n",
        "# Set time vector\n",
        "time = np.arange(0, 1, 1/num_samples)\n",
        "\n",
        "# Plot data\n",
        "plt.plot(time, strain[:num_samples])\n",
        "plt.xlabel('GPS Time (s)')\n",
        "plt.ylabel('strain')\n",
        "plt.show()\n"
      ],
      "metadata": {
        "id": "d5qfYt4ivbYC"
      },
      "execution_count": null,
      "outputs": []
    },
    {
      "cell_type": "markdown",
      "source": [
        "### matfiles"
      ],
      "metadata": {
        "id": "jGi7JfKow72c"
      }
    },
    {
      "cell_type": "code",
      "source": [
        "# Import package\n",
        "import scipy.io\n",
        "\n",
        "# Load MATLAB file: mat\n",
        "mat = scipy.io.loadmat('albeck_gene_expression.mat')\n",
        "\n",
        "# Print the datatype type of mat\n",
        "print(type(mat))\n"
      ],
      "metadata": {
        "id": "OUOLU7O_w-Gs"
      },
      "execution_count": null,
      "outputs": []
    },
    {
      "cell_type": "code",
      "source": [
        "# Print the keys of the MATLAB dictionary\n",
        "print(mat.keys())\n",
        "\n",
        "# Print the type of the value corresponding to the key 'CYratioCyt'\n",
        "print(type(mat['CYratioCyt']))\n",
        "\n",
        "# Print the shape of the value corresponding to the key 'CYratioCyt'\n",
        "print(mat['CYratioCyt'].shape)\n",
        "\n",
        "\n",
        "# Subset the array and plot it\n",
        "data = mat['CYratioCyt'][25, 5:]\n",
        "fig = plt.figure()\n",
        "plt.plot(data)\n",
        "plt.xlabel('time (min.)')\n",
        "plt.ylabel('normalized fluorescence (measure of expression)')\n",
        "plt.show()\n"
      ],
      "metadata": {
        "id": "EvLdB116xThr"
      },
      "execution_count": null,
      "outputs": []
    },
    {
      "cell_type": "markdown",
      "source": [
        "## Working with relational databases in Python"
      ],
      "metadata": {
        "id": "udFkP6ajxXQY"
      }
    },
    {
      "cell_type": "markdown",
      "source": [
        "### Creating a database engine"
      ],
      "metadata": {
        "id": "Rnz5yZlaVjsF"
      }
    },
    {
      "cell_type": "code",
      "source": [
        "# Import necessary module\n",
        "from sqlalchemy import inspect, create_engine\n",
        "\n",
        "# Create engine: engine\n",
        "engine = create_engine('sqlite:///Chinook.sqlite')\n",
        "\n",
        "# Save the table names to a list: table_names\n",
        "table_names = engine.table_names()\n",
        "\n",
        "# Print the table names to the shell\n",
        "print(table_names)\n",
        "\n",
        "insp = inspect(engine)\n",
        "insp.get_table_names()"
      ],
      "metadata": {
        "id": "sffT18I8xYtu"
      },
      "execution_count": null,
      "outputs": []
    },
    {
      "cell_type": "markdown",
      "source": [
        "### The Hello World of SQL Queries!"
      ],
      "metadata": {
        "id": "-SthOuwebcE3"
      }
    },
    {
      "cell_type": "code",
      "source": [
        "# Import packages\n",
        "from sqlalchemy import create_engine\n",
        "import pandas as pd\n",
        "\n",
        "# Create engine: engine\n",
        "engine = create_engine('sqlite:///Chinook.sqlite')\n",
        "\n",
        "# Open engine connection: con\n",
        "con = engine.connect()\n",
        "\n",
        "# Perform query: rs\n",
        "rs = con.execute('Select * From Album')\n",
        "\n",
        "# Save results of the query to DataFrame: df\n",
        "df = pd.DataFrame(rs.fetchall(), columns=rs.keys())\n",
        "\n",
        "# Close connection\n",
        "con.close()\n",
        "\n",
        "# Print head of DataFrame df\n",
        "print(df.head())"
      ],
      "metadata": {
        "id": "QSc7-PBGZ6MO"
      },
      "execution_count": null,
      "outputs": []
    },
    {
      "cell_type": "markdown",
      "source": [
        "### Customizing the Hello World of SQL Queries"
      ],
      "metadata": {
        "id": "zrKuOQjPbZpj"
      }
    },
    {
      "cell_type": "code",
      "source": [
        "# Open engine in context manager\n",
        "# Perform query and save results to DataFrame: df\n",
        "with engine.connect() as con:\n",
        "    rs = con.execute(\"SELECT LastName, Title FROM Employee\")\n",
        "    df = pd.DataFrame(rs.fetchmany(size=3), columns=rs.keys())\n",
        "\n",
        "# Print the length of the DataFrame df\n",
        "print(len(df))\n",
        "\n",
        "# Print the head of the DataFrame df\n",
        "print(df.head())"
      ],
      "metadata": {
        "id": "u0JLCzRdaYi8"
      },
      "execution_count": null,
      "outputs": []
    },
    {
      "cell_type": "markdown",
      "source": [
        "### Filtering your database records using SQL's WHERE"
      ],
      "metadata": {
        "id": "0u6__s8sbUoS"
      }
    },
    {
      "cell_type": "code",
      "source": [
        "# Create engine: engine\n",
        "engine = create_engine('sqlite:///Chinook.sqlite')\n",
        "\n",
        "# Open engine in context manager\n",
        "# Perform query and save results to DataFrame: df\n",
        "with engine.connect() as con:\n",
        "    rs = con.execute(\"SELECT * FROM Employee WHERE EmployeeId >= 6 \")\n",
        "    df = pd.DataFrame(rs.fetchall(), columns=rs.keys())\n",
        "\n",
        "# Print the head of the DataFrame df\n",
        "print(df.head())"
      ],
      "metadata": {
        "id": "PLSBYauMbR-A"
      },
      "execution_count": null,
      "outputs": []
    },
    {
      "cell_type": "markdown",
      "source": [
        "### Ordering your SQL records with ORDER BY"
      ],
      "metadata": {
        "id": "WrOb6Fl-be6c"
      }
    },
    {
      "cell_type": "code",
      "source": [
        "# Create engine: engine\n",
        "engine = create_engine('sqlite:///Chinook.sqlite')\n",
        "\n",
        "# Open engine in context manager\n",
        "with engine.connect() as con:\n",
        "    rs = con.execute(\"SELECT * FROM Employee ORDER BY BirthDate\")\n",
        "    df = pd.DataFrame(rs.fetchall(), columns=rs.keys())\n",
        "\n",
        "# Print head of DataFrame\n",
        "print(df.head())\n"
      ],
      "metadata": {
        "id": "eYYilhaYbfNO"
      },
      "execution_count": null,
      "outputs": []
    },
    {
      "cell_type": "markdown",
      "source": [
        "### Pandas and The Hello World of SQL Queries!"
      ],
      "metadata": {
        "id": "P_oyaE6Uc1l3"
      }
    },
    {
      "cell_type": "code",
      "source": [
        "# Import packages\n",
        "from sqlalchemy import create_engine\n",
        "import pandas as pd\n",
        "\n",
        "# Create engine: engine\n",
        "engine = create_engine('sqlite:///Chinook.sqlite')\n",
        "\n",
        "# Execute query and store records in DataFrame: df\n",
        "df = pd.read_sql_query(\"SELECT * FROM Album\", engine)\n",
        "\n",
        "# Print head of DataFrame\n",
        "print(df.head())\n",
        "\n",
        "# Open engine in context manager and store query result in df1\n",
        "with engine.connect() as con:\n",
        "    rs = con.execute(\"SELECT * FROM Album\")\n",
        "    df1 = pd.DataFrame(rs.fetchall())\n",
        "    df1.columns = rs.keys()\n",
        "\n",
        "# Confirm that both methods yield the same result\n",
        "print(df.equals(df1))"
      ],
      "metadata": {
        "id": "LmDXZyTrc1Fd"
      },
      "execution_count": null,
      "outputs": []
    },
    {
      "cell_type": "markdown",
      "source": [
        "### Pandas for more complex querying"
      ],
      "metadata": {
        "id": "vpBXWLFAvzEO"
      }
    },
    {
      "cell_type": "code",
      "source": [
        "# Import packages\n",
        "from sqlalchemy import create_engine\n",
        "import pandas as pd\n",
        "\n",
        "# Create engine: engine\n",
        "engine = create_engine('sqlite:///Chinook.sqlite')\n",
        "\n",
        "\n",
        "# Execute query and store records in DataFrame: df\n",
        "df = pd.read_sql_query('SELECT * FROM Employee WHERE EmployeeId >= 6 ORDER BY BirthDate', engine)\n",
        "\n",
        "# Print head of DataFrame\n",
        "print(df.head())\n"
      ],
      "metadata": {
        "id": "r8MZ-_Atvyrm"
      },
      "execution_count": null,
      "outputs": []
    },
    {
      "cell_type": "markdown",
      "source": [
        "### The power of SQL lies in relationships between tables: INNER JOIN"
      ],
      "metadata": {
        "id": "NDctZWfNzNm2"
      }
    },
    {
      "cell_type": "code",
      "source": [
        "# Open engine in context manager\n",
        "# Perform query and save results to DataFrame: df\n",
        "\n",
        "QUERY = (\n",
        "    'SELECT Title, Name'\n",
        "    ' FROM Album '\n",
        "    ' INNER JOIN Artist '\n",
        "    ' ON Album.ArtistID = Artist.ArtistID'\n",
        ")\n",
        "\n",
        "with engine.connect() as con:\n",
        "    df = pd.read_sql_query(QUERY, engine)\n",
        "\n",
        "# Print head of DataFrame df\n",
        "print(df.head())\n"
      ],
      "metadata": {
        "id": "yIP8ilj9y7L-"
      },
      "execution_count": null,
      "outputs": []
    },
    {
      "cell_type": "markdown",
      "source": [
        "### Filtering your INNER JOIN"
      ],
      "metadata": {
        "id": "w1aUxLQNzSY5"
      }
    },
    {
      "cell_type": "code",
      "source": [
        "# Execute query and store records in DataFrame: df\n",
        "QUERY = (\n",
        "    'SELECT * '\n",
        "    'FROM PlaylistTrack '\n",
        "    'INNER JOIN Track '\n",
        "    'ON PlaylistTrack.TrackId = Track.TrackId '\n",
        "    'WHERE Milliseconds < 250000'\n",
        ")\n",
        "\n",
        "with engine.connect() as con:\n",
        "    df = pd.read_sql_query(QUERY, engine)\n",
        "\n",
        "# Print head of DataFrame df\n",
        "print(df.head())"
      ],
      "metadata": {
        "id": "2DCWiWejzLJe"
      },
      "execution_count": null,
      "outputs": []
    },
    {
      "cell_type": "markdown",
      "source": [
        "# Introduction to Data Visualization with Matplotlib"
      ],
      "metadata": {
        "id": "eKxx6YMd5wwQ"
      }
    },
    {
      "cell_type": "code",
      "source": [
        "%%capture XxXxX\n",
        "!gdown --id 1Cy9e-vf_ORDZA2oNKR0kVQksaMbVSod7\n",
        "!unzip datasets.zip"
      ],
      "metadata": {
        "id": "K6EOZf6OGOFE"
      },
      "execution_count": null,
      "outputs": []
    },
    {
      "cell_type": "code",
      "source": [
        "# Importing course packages; you can add more too!\n",
        "import pandas as pd\n",
        "import numpy as np\n",
        "import matplotlib.pyplot as plt\n",
        "\n",
        "# Importing course datasets as DataFrames\n",
        "climate_change = pd.read_csv('datasets/climate_change.csv', parse_dates=[\"date\"], index_col=\"date\")\n",
        "\n",
        "medals = pd.read_csv('datasets/medals_by_country_2016.csv', index_col=0)\n",
        "summer_2016 = pd.read_csv('datasets/summer2016.csv')\n",
        "\n",
        "austin_weather = pd.read_csv(\"datasets/austin_weather.csv\", index_col=\"DATE\")\n",
        "\n",
        "weather = pd.read_csv(\"datasets/seattle_weather.csv\", index_col=\"DATE\")\n",
        "\n",
        "# Some pre-processing on the weather datasets, including adding a month column\n",
        "seattle_weather = weather[weather[\"STATION\"] == \"USW00094290\"].copy()\n",
        "month = [\"Jan\", \"Feb\", \"Mar\", \"Apr\", \"May\", \"Jun\", \"Jul\", \"Aug\", \"Sep\", \"Oct\", \"Nov\", \"Dec\"] \n",
        "seattle_weather[\"MONTH\"] = month \n",
        "austin_weather[\"MONTH\"] = month\n",
        "\n",
        "# Some pre-processing on the summer_2016 dataset\n",
        "mens_rowing = summer_2016[\n",
        "    (summer_2016['Sex'] == 'M') & (summer_2016['Sport'] == 'Rowing')\n",
        "]\n",
        "\n",
        "mens_gymnastics = summer_2016[\n",
        "    (summer_2016['Sex'] == 'M') & (summer_2016['Sport'] == 'Gymnastics')\n",
        "]\n"
      ],
      "metadata": {
        "id": "y1XSh_25FBTA"
      },
      "execution_count": null,
      "outputs": []
    },
    {
      "cell_type": "markdown",
      "source": [
        "## Introduction to Matplotlib\n"
      ],
      "metadata": {
        "id": "5DC7LWYQ5qNE"
      }
    },
    {
      "cell_type": "markdown",
      "source": [
        "### Using the matplotlib.pyplot interface"
      ],
      "metadata": {
        "id": "E828dHUX51mT"
      }
    },
    {
      "cell_type": "code",
      "source": [
        "# Import the matplotlib.pyplot submodule and name it plt\n",
        "import matplotlib.pyplot as plt\n",
        "\n",
        "# Create a Figure and an Axes with plt.subplots\n",
        "fig, ax = plt.subplots()\n",
        "\n",
        "# Call the show function to show the result\n",
        "plt.show()"
      ],
      "metadata": {
        "id": "chtO7XWKHBPl"
      },
      "execution_count": null,
      "outputs": []
    },
    {
      "cell_type": "markdown",
      "source": [
        "### Adding data to an Axes object"
      ],
      "metadata": {
        "id": "kDc3ulTF6I4J"
      }
    },
    {
      "cell_type": "code",
      "source": [
        "# Import the matplotlib.pyplot submodule and name it plt\n",
        "import matplotlib.pyplot as plt\n",
        "\n",
        "# Create a Figure and an Axes with plt.subplots\n",
        "fig, ax = plt.subplots()\n",
        "\n",
        "# Plot MLY-PRCP-NORMAL from seattle_weather against the MONTH\n",
        "ax.plot(seattle_weather[\"MONTH\"], seattle_weather[\"MLY-PRCP-NORMAL\"])\n",
        "\n",
        "# Plot MLY-PRCP-NORMAL from austin_weather against MONTH\n",
        "ax.plot(austin_weather[\"MONTH\"], austin_weather[\"MLY-PRCP-NORMAL\"])\n",
        "\n",
        "# Call the show function\n",
        "plt.show()"
      ],
      "metadata": {
        "id": "YWDyVQvA6KmD",
        "colab": {
          "base_uri": "https://localhost:8080/",
          "height": 266
        },
        "outputId": "5b8dae1d-fc6a-49ee-8372-369fe857fe59"
      },
      "execution_count": null,
      "outputs": [
        {
          "output_type": "display_data",
          "data": {
            "text/plain": [
              "<Figure size 432x288 with 1 Axes>"
            ],
            "image/png": "[encoded data removed]"
          },
          "metadata": {
            "needs_background": "light"
          }
        }
      ]
    },
    {
      "cell_type": "markdown",
      "source": [
        "### Customizing data appearance"
      ],
      "metadata": {
        "id": "BBrK9VPy8Ama"
      }
    },
    {
      "cell_type": "code",
      "source": [
        "# Create a Figure and an Axes with plt.subplots\n",
        "fig, ax = plt.subplots()\n",
        "\n",
        "# Plot Seattle data, setting data appearance\n",
        "ax.plot(seattle_weather[\"MONTH\"], seattle_weather[\"MLY-PRCP-NORMAL\"], color='b', marker='o', linestyle='--')\n",
        "\n",
        "# Plot Austin data, setting data appearance\n",
        "ax.plot(austin_weather[\"MONTH\"], austin_weather[\"MLY-PRCP-NORMAL\"], color='r', marker='v', linestyle='--')\n",
        "\n",
        "# Call show to display the resulting plot\n",
        "plt.show()"
      ],
      "metadata": {
        "id": "7yH8voG68CQl"
      },
      "execution_count": null,
      "outputs": []
    },
    {
      "cell_type": "markdown",
      "source": [
        "### Customizing axis labels and adding titles"
      ],
      "metadata": {
        "id": "-RJDqBKX9PbM"
      }
    },
    {
      "cell_type": "code",
      "source": [
        "# Create a Figure and an Axes with plt.subplots\n",
        "fig, ax = plt.subplots()\n",
        "\n",
        "ax.plot(seattle_weather[\"MONTH\"], seattle_weather[\"MLY-PRCP-NORMAL\"])\n",
        "ax.plot(austin_weather[\"MONTH\"], austin_weather[\"MLY-PRCP-NORMAL\"])\n",
        "\n",
        "# Customize the x-axis label\n",
        "ax.set_xlabel(\"Time (months)\")\n",
        "\n",
        "# Customize the y-axis label\n",
        "ax.set_ylabel(\"Precipitation (inches)\")\n",
        "\n",
        "# Add the title\n",
        "ax.set_title(\"Weather patterns in Austin and Seattle\")\n",
        "\n",
        "# Display the figure\n",
        "plt.show()"
      ],
      "metadata": {
        "id": "x3j0n62t9Ne6"
      },
      "execution_count": null,
      "outputs": []
    },
    {
      "cell_type": "markdown",
      "source": [
        "### Creating small multiples with plt.subplots"
      ],
      "metadata": {
        "id": "0MH8DvBh-vKv"
      }
    },
    {
      "cell_type": "code",
      "source": [
        "# Create a Figure and an array of subplots with 2 rows and 2 columns\n",
        "fig, ax = plt.subplots(2, 2)\n",
        "\n",
        "# Addressing the top left Axes as index 0, 0, plot month and Seattle precipitation\n",
        "ax[0, 0].plot(seattle_weather[\"MONTH\"], seattle_weather[\"MLY-PRCP-NORMAL\"])\n",
        "\n",
        "# In the top right (index 0,1), plot month and Seattle temperatures\n",
        "ax[0, 1].plot(seattle_weather[\"MONTH\"], seattle_weather[\"MLY-TAVG-NORMAL\"])\n",
        "\n",
        "# In the bottom left (1, 0) plot month and Austin precipitations\n",
        "ax[1, 0].plot(austin_weather[\"MONTH\"], austin_weather[\"MLY-PRCP-NORMAL\"])\n",
        "\n",
        "# In the bottom right (1, 1) plot month and Austin temperatures\n",
        "ax[1, 1].plot(austin_weather[\"MONTH\"], austin_weather[\"MLY-TAVG-NORMAL\"])\n",
        "\n",
        "plt.show()"
      ],
      "metadata": {
        "id": "nOADZrgT-u0t"
      },
      "execution_count": null,
      "outputs": []
    },
    {
      "cell_type": "markdown",
      "source": [
        "### Small multiples with shared y axis"
      ],
      "metadata": {
        "id": "K1KfdwROAwIC"
      }
    },
    {
      "cell_type": "code",
      "source": [
        "# Create a figure and an array of axes: 2 rows, 1 column with shared y axis\n",
        "fig, ax = plt.subplots(2, 1, sharey=True)\n",
        "\n",
        "# Plot Seattle precipitation data in the top axes\n",
        "ax[0].plot(seattle_weather['MONTH'], seattle_weather['MLY-PRCP-NORMAL'], color = 'b')\n",
        "ax[0].plot(seattle_weather['MONTH'], seattle_weather['MLY-PRCP-25PCTL'], color = 'b', linestyle = '--')\n",
        "ax[0].plot(seattle_weather['MONTH'], seattle_weather['MLY-PRCP-75PCTL'], color = 'b', linestyle = '--')\n",
        "\n",
        "# Plot Austin precipitation data in the bottom axes\n",
        "ax[1].plot(austin_weather['MONTH'], austin_weather['MLY-PRCP-NORMAL'], color = 'r')\n",
        "ax[1].plot(austin_weather['MONTH'], austin_weather['MLY-PRCP-25PCTL'], color = 'r', linestyle = '--')\n",
        "ax[1].plot(austin_weather['MONTH'], austin_weather['MLY-PRCP-75PCTL'], color = 'r', linestyle = '--')\n",
        "\n",
        "plt.show()"
      ],
      "metadata": {
        "id": "VXwH-gOXAkVp"
      },
      "execution_count": null,
      "outputs": []
    },
    {
      "cell_type": "markdown",
      "source": [
        "## Plotting time-series"
      ],
      "metadata": {
        "id": "xNmuXvDTDipk"
      }
    },
    {
      "cell_type": "markdown",
      "source": [
        "### Read data with a time index"
      ],
      "metadata": {
        "id": "_zrKpwizDnOn"
      }
    },
    {
      "cell_type": "code",
      "source": [
        "# Import pandas as pd\n",
        "import pandas as pd\n",
        "\n",
        "# Read the data from file using read_csv\n",
        "climate_change = pd.read_csv('datasets/climate_change.csv', parse_dates=['date'], index_col='date')"
      ],
      "metadata": {
        "id": "9TALZFXtDrXq"
      },
      "execution_count": null,
      "outputs": []
    },
    {
      "cell_type": "markdown",
      "source": [
        "### Plot time-series data"
      ],
      "metadata": {
        "id": "bScA43KjEvKF"
      }
    },
    {
      "cell_type": "code",
      "source": [
        "import matplotlib.pyplot as plt\n",
        "\n",
        "fig, ax = plt.subplots()\n",
        "\n",
        "# Add the time-series for \"relative_temp\" to the plot\n",
        "ax.plot(climate_change.index, climate_change['relative_temp'])\n",
        "\n",
        "# Set the x-axis label\n",
        "ax.set_xlabel('Time')\n",
        "\n",
        "# Set the y-axis label\n",
        "ax.set_ylabel('Relative temperature (Celsius)')\n",
        "\n",
        "# Show the figure\n",
        "plt.show()"
      ],
      "metadata": {
        "id": "_V9z3s-eEsR3"
      },
      "execution_count": null,
      "outputs": []
    },
    {
      "cell_type": "markdown",
      "source": [
        "### Using a time index to zoom in"
      ],
      "metadata": {
        "id": "kN7iPLUpE1eL"
      }
    },
    {
      "cell_type": "code",
      "source": [
        "import matplotlib.pyplot as plt\n",
        "\n",
        "# Use plt.subplots to create fig and ax\n",
        "fig, ax = plt.subplots()\n",
        "\n",
        "# Create variable seventies with data from \"1970-01-01\" to \"1979-12-31\"\n",
        "seventies = climate_change[\"1970-01-01\" : \"1979-12-31\"]\n",
        "\n",
        "# Add the time-series for \"co2\" data from seventies to the plot\n",
        "ax.plot(seventies.index, seventies[\"co2\"])\n",
        "\n",
        "# Show the figure\n",
        "plt.show()"
      ],
      "metadata": {
        "id": "8aHK3uC-E2Vn"
      },
      "execution_count": null,
      "outputs": []
    },
    {
      "cell_type": "markdown",
      "source": [
        "### Plotting two variables"
      ],
      "metadata": {
        "id": "OJPs68ZZGsdP"
      }
    },
    {
      "cell_type": "code",
      "source": [
        "import matplotlib.pyplot as plt\n",
        "\n",
        "# Initalize a Figure and Axes\n",
        "fig, ax = plt.subplots()\n",
        "\n",
        "# Plot the CO2 variable in blue\n",
        "ax.plot(climate_change.index, climate_change['co2'], color='b')\n",
        "\n",
        "# Create a twin Axes that shares the x-axis\n",
        "ax2 = ax.twinx()\n",
        "\n",
        "# Plot the relative temperature in red\n",
        "ax2.plot(climate_change.index, climate_change['relative_temp'], color='r')\n",
        "\n",
        "plt.show()"
      ],
      "metadata": {
        "id": "TAGjUXkWGuV7"
      },
      "execution_count": null,
      "outputs": []
    },
    {
      "cell_type": "markdown",
      "source": [
        "### Defining a function that plots time-series data"
      ],
      "metadata": {
        "id": "9bug6pl9G66-"
      }
    },
    {
      "cell_type": "code",
      "source": [
        "# Define a function called plot_timeseries\n",
        "def plot_timeseries(axes, x, y, color, xlabel, ylabel):\n",
        "\n",
        "    # Plot the inputs x,y in the provided color\n",
        "    axes.plot(x, y, color=color)\n",
        "\n",
        "    # Set the x-axis label\n",
        "    axes.set_xlabel(xlabel)\n",
        "\n",
        "    # Set the y-axis label\n",
        "    axes.set_ylabel(ylabel, color=color)\n",
        "\n",
        "    # Set the colors tick params for y-axis\n",
        "    axes.tick_params('y', colors=color)"
      ],
      "metadata": {
        "id": "Z-D6xOzDG8LM"
      },
      "execution_count": null,
      "outputs": []
    },
    {
      "cell_type": "markdown",
      "source": [
        "### Using a plotting function"
      ],
      "metadata": {
        "id": "owjq9bqDHnjM"
      }
    },
    {
      "cell_type": "code",
      "source": [
        "fig, ax = plt.subplots()\n",
        "\n",
        "# Plot the CO2 levels time-series in blue\n",
        "plot_timeseries(ax, climate_change.index, climate_change['co2'], 'blue', 'Time (years)', 'CO2 levels')\n",
        "\n",
        "# Create a twin Axes object that shares the x-axis\n",
        "ax2 = ax.twinx()\n",
        "\n",
        "# Plot the relative temperature data in red\n",
        "plot_timeseries(ax2, climate_change.index, climate_change['relative_temp'], 'red', 'Time (years)', 'Relative temperature (Celsius)')\n",
        "\n",
        "plt.show()"
      ],
      "metadata": {
        "id": "YOtOirS3HohU"
      },
      "execution_count": null,
      "outputs": []
    },
    {
      "cell_type": "markdown",
      "source": [
        "### Annotating a plot of time-series data"
      ],
      "metadata": {
        "id": "7TSBtXQ2Ipf7"
      }
    },
    {
      "cell_type": "code",
      "source": [
        "fig, ax = plt.subplots()\n",
        "\n",
        "# Plot the relative temperature data\n",
        "ax.plot(climate_change.index, climate_change['relative_temp'])\n",
        "\n",
        "# Annotate the date at which temperatures exceeded 1 degree\n",
        "ax.annotate('>1 degree', xy=(pd.Timestamp('2015-10-06'), 1))\n",
        "\n",
        "plt.show()"
      ],
      "metadata": {
        "id": "cfcsyfeJIpKu"
      },
      "execution_count": null,
      "outputs": []
    },
    {
      "cell_type": "markdown",
      "source": [
        "### Plotting time-series: putting it all together"
      ],
      "metadata": {
        "id": "fptFxNzSJ2yG"
      }
    },
    {
      "cell_type": "code",
      "source": [
        "fig, ax = plt.subplots()\n",
        "\n",
        "# Plot the CO2 levels time-series in blue\n",
        "plot_timeseries(ax, climate_change.index, climate_change['co2'], 'blue', 'Time (years)', 'CO2 levels')\n",
        "\n",
        "# Create an Axes object that shares the x-axis\n",
        "ax2 = ax.twinx()\n",
        "\n",
        "# Plot the relative temperature data in red\n",
        "plot_timeseries(ax2, climate_change.index, climate_change['relative_temp'], 'red', 'Time (years)', 'Relative temp (Celsius)')\n",
        "\n",
        "# Annotate point with relative temperature >1 degree\n",
        "ax2.annotate('>1 degree', xy=(pd.Timestamp('2015-10-06'), 1), xytext=(pd.Timestamp('2008-10-06'), -0.2), arrowprops={'arrowstyle':'->', 'color':'gray'})\n",
        "\n",
        "plt.show()"
      ],
      "metadata": {
        "id": "Qv0Ohhj4J3TG"
      },
      "execution_count": null,
      "outputs": []
    },
    {
      "cell_type": "markdown",
      "source": [
        "## Quantitative comparisons and statistical visualizations"
      ],
      "metadata": {
        "id": "SOdcjF6CcKlr"
      }
    },
    {
      "cell_type": "markdown",
      "source": [
        "### Bar chart"
      ],
      "metadata": {
        "id": "VBobFTrTcPX6"
      }
    },
    {
      "cell_type": "code",
      "source": [
        "fig, ax = plt.subplots()\n",
        "\n",
        "# Plot a bar-chart of gold medals as a function of country\n",
        "ax.bar(medals.index, medals['Gold'], label='Gold')\n",
        "\n",
        "# Set the x-axis tick labels to the country names\n",
        "ax.set_xticklabels(medals.index, rotation=90)\n",
        "\n",
        "# Set the y-axis label\n",
        "ax.set_ylabel('Number of medals')\n",
        "\n",
        "plt.show()"
      ],
      "metadata": {
        "id": "wPR-GDuscOxv"
      },
      "execution_count": null,
      "outputs": []
    },
    {
      "cell_type": "markdown",
      "source": [
        "### Stacked bar chart"
      ],
      "metadata": {
        "id": "wegOfO-rdTca"
      }
    },
    {
      "cell_type": "code",
      "source": [
        "fig, ax = plt.subplots()\n",
        "# Add bars for \"Gold\" with the label \"Gold\"\n",
        "ax.bar(medals.index, medals['Gold'], label='Gold')\n",
        "\n",
        "# Stack bars for \"Silver\" on top with label \"Silver\"\n",
        "ax.bar(medals.index, medals['Silver'], bottom=medals['Gold'], label='Silver')\n",
        "\n",
        "# Stack bars for \"Bronze\" on top of that with label \"Bronze\"\n",
        "ax.bar(medals.index, medals['Bronze'], bottom=medals['Gold']+medals['Silver'], label='Bronze')\n",
        "\n",
        "# Display the legend\n",
        "ax.legend()\n",
        "\n",
        "plt.show()"
      ],
      "metadata": {
        "id": "N5aMM2_1dV1t"
      },
      "execution_count": null,
      "outputs": []
    },
    {
      "cell_type": "markdown",
      "source": [
        "### Creating histograms"
      ],
      "metadata": {
        "id": "Qrg0HbPIfRzo"
      }
    },
    {
      "cell_type": "code",
      "source": [
        "fig, ax = plt.subplots()\n",
        "# Plot a histogram of \"Weight\" for mens_rowing\n",
        "ax.hist(mens_rowing['Weight'], label='rowing')\n",
        "\n",
        "# Compare to histogram of \"Weight\" for mens_gymnastics\n",
        "ax.hist(mens_gymnastics['Weight'], label='gymnastics')\n",
        "\n",
        "# Set the x-axis label to \"Weight (kg)\"\n",
        "ax.set_xlabel('Weight (kg)')\n",
        "\n",
        "# Set the y-axis label to \"# of observations\"\n",
        "ax.set_ylabel('# of observations')\n",
        "\n",
        "plt.show()"
      ],
      "metadata": {
        "id": "3QD1K25HfS--"
      },
      "execution_count": null,
      "outputs": []
    },
    {
      "cell_type": "markdown",
      "source": [
        "### \"Step\" histogram"
      ],
      "metadata": {
        "id": "XZwbpyt1fWox"
      }
    },
    {
      "cell_type": "code",
      "source": [
        "fig, ax = plt.subplots()\n",
        "\n",
        "# Plot a histogram of \"Weight\" for mens_rowing\n",
        "ax.hist(mens_rowing['Weight'], bins=5, histtype='step', label='Rowing')\n",
        "\n",
        "# Compare to histogram of \"Weight\" for mens_gymnastics\n",
        "ax.hist(mens_gymnastics['Weight'], bins=5, histtype='step', label='Gymnastics')\n",
        "\n",
        "ax.set_xlabel(\"Weight (kg)\")\n",
        "ax.set_ylabel(\"# of observations\")\n",
        "\n",
        "# Add the legend and show the Figure\n",
        "ax.legend()\n",
        "\n",
        "plt.show()"
      ],
      "metadata": {
        "id": "z_ZzspkJfXzH"
      },
      "execution_count": null,
      "outputs": []
    },
    {
      "cell_type": "markdown",
      "source": [
        "### Adding error-bars to a bar chart"
      ],
      "metadata": {
        "id": "_3JGREYXiN3F"
      }
    },
    {
      "cell_type": "code",
      "source": [
        "fig, ax = plt.subplots()\n",
        "\n",
        "# Add a bar for the rowing \"Height\" column mean/std\n",
        "ax.bar(\"Rowing\", mens_rowing['Height'].mean(), yerr=mens_rowing['Height'].std())\n",
        "\n",
        "# Add a bar for the gymnastics \"Height\" column mean/std\n",
        "ax.bar(\"Gymnastics\", mens_gymnastics['Height'].mean(), yerr=mens_gymnastics['Height'].std())\n",
        "\n",
        "# Label the y-axis\n",
        "ax.set_ylabel(\"Height (cm)\")\n",
        "\n",
        "plt.show()"
      ],
      "metadata": {
        "id": "SQScb5MOiPVN"
      },
      "execution_count": null,
      "outputs": []
    },
    {
      "cell_type": "markdown",
      "source": [
        "### Adding error-bars to a plot"
      ],
      "metadata": {
        "id": "db3Z_b9CmTBY"
      }
    },
    {
      "cell_type": "code",
      "source": [
        "fig, ax = plt.subplots()\n",
        "\n",
        "# Add Seattle temperature data in each month with error bars\n",
        "ax.errorbar(seattle_weather['MONTH'], seattle_weather['MLY-TAVG-NORMAL'], yerr=seattle_weather['MLY-TAVG-STDDEV'])\n",
        "\n",
        "# Add Austin temperature data in each month with error bars\n",
        "ax.errorbar(austin_weather['MONTH'], austin_weather['MLY-TAVG-NORMAL'], yerr=austin_weather['MLY-TAVG-STDDEV'])\n",
        "\n",
        "# Set the y-axis label\n",
        "ax.set_ylabel('Temperature (Fahrenheit)')\n",
        "\n",
        "plt.show()"
      ],
      "metadata": {
        "id": "XdHozbZOmSso"
      },
      "execution_count": null,
      "outputs": []
    },
    {
      "cell_type": "markdown",
      "source": [
        "### Creating boxplots"
      ],
      "metadata": {
        "id": "kATQgawOnPx4"
      }
    },
    {
      "cell_type": "code",
      "source": [
        "fig, ax = plt.subplots()\n",
        "\n",
        "# Add a boxplot for the \"Height\" column in the DataFrames\n",
        "ax.boxplot([mens_rowing['Height'], mens_gymnastics['Height']])\n",
        "\n",
        "# Add x-axis tick labels:\n",
        "ax.set_xticklabels(['Rowing','Gymnastics'])\n",
        "\n",
        "# Add a y-axis label\n",
        "ax.set_ylabel('Height (cm)')\n",
        "\n",
        "plt.show()"
      ],
      "metadata": {
        "id": "SMDMow_znTGc"
      },
      "execution_count": null,
      "outputs": []
    },
    {
      "cell_type": "markdown",
      "source": [
        "### Simple scatter plot"
      ],
      "metadata": {
        "id": "6jOP5f4GobJE"
      }
    },
    {
      "cell_type": "code",
      "source": [
        "fig, ax = plt.subplots()\n",
        "\n",
        "# Add data: \"co2\" on x-axis, \"relative_temp\" on y-axis\n",
        "ax.scatter(climate_change['co2'], climate_change['relative_temp'])\n",
        "\n",
        "# Set the x-axis label to \"CO2 (ppm)\"\n",
        "ax.set_xlabel('CO2 (ppm)')\n",
        "\n",
        "# Set the y-axis label to \"Relative temperature (C)\"\n",
        "ax.set_ylabel('Relative temperature (C)')\n",
        "\n",
        "plt.show()"
      ],
      "metadata": {
        "id": "k4XYhBwtoa6H"
      },
      "execution_count": null,
      "outputs": []
    },
    {
      "cell_type": "markdown",
      "source": [
        "### Encoding time by color"
      ],
      "metadata": {
        "id": "4tlW1ljKp5Bt"
      }
    },
    {
      "cell_type": "code",
      "source": [
        "fig, ax = plt.subplots()\n",
        "\n",
        "# Add data: \"co2\", \"relative_temp\" as x-y, index as color\n",
        "ax.scatter(climate_change['co2'], climate_change['relative_temp'], c=climate_change.index)\n",
        "\n",
        "# Set the x-axis label to \"CO2 (ppm)\"\n",
        "ax.set_xlabel('CO2 (ppm)')\n",
        "\n",
        "# Set the y-axis label to \"Relative temperature (C)\"\n",
        "ax.set_ylabel('Relative temperature (C)')\n",
        "\n",
        "plt.show()"
      ],
      "metadata": {
        "id": "WeJSNKPLp6KM"
      },
      "execution_count": null,
      "outputs": []
    },
    {
      "cell_type": "markdown",
      "source": [
        "### Switching between styles"
      ],
      "metadata": {
        "id": "UoeYJhazrAps"
      }
    },
    {
      "cell_type": "code",
      "source": [
        "# Use the \"ggplot\" style and create new Figure/Axes\n",
        "plt.style.use('ggplot')\n",
        "\n",
        "fig, ax = plt.subplots()\n",
        "\n",
        "ax.plot(seattle_weather[\"MONTH\"], seattle_weather[\"MLY-TAVG-NORMAL\"])\n",
        "\n",
        "plt.show()"
      ],
      "metadata": {
        "id": "OI9qI2qarARx"
      },
      "execution_count": null,
      "outputs": []
    },
    {
      "cell_type": "code",
      "source": [
        "# Use the \"Solarize_Light2\" style and create new Figure/Axes\n",
        "plt.style.use('Solarize_Light2')\n",
        "\n",
        "fig, ax = plt.subplots()\n",
        "\n",
        "ax.plot(austin_weather[\"MONTH\"], austin_weather[\"MLY-TAVG-NORMAL\"])\n",
        "\n",
        "plt.show()"
      ],
      "metadata": {
        "id": "ZgpJvTLNrWgQ"
      },
      "execution_count": null,
      "outputs": []
    },
    {
      "cell_type": "markdown",
      "source": [
        "## Sharing visualizations with others"
      ],
      "metadata": {
        "id": "3-UcXaFyrDWf"
      }
    },
    {
      "cell_type": "markdown",
      "source": [
        "### Automate your visualization"
      ],
      "metadata": {
        "id": "j2rfhwrIuSd5"
      }
    },
    {
      "cell_type": "code",
      "source": [
        "# Extract the \"Sport\" column\n",
        "sports_column = summer_2016['Sport']\n",
        "\n",
        "# Find the unique values of the \"Sport\" column\n",
        "sports = sports_column.unique()\n",
        "\n",
        "# Print out the unique sports values\n",
        "print(sports)"
      ],
      "metadata": {
        "id": "1FyXrEpkuS2N"
      },
      "execution_count": null,
      "outputs": []
    },
    {
      "cell_type": "code",
      "source": [
        "fig, ax = plt.subplots()\n",
        "\n",
        "# Loop over the different sports branches\n",
        "for sport in sports:\n",
        "    # Extract the rows only for this sport\n",
        "    sport_df = summer_2016[summer_2016['Sport'] == sport]\n",
        "    # Add a bar for the \"Weight\" mean with std y error bar\n",
        "    ax.bar(sport, sport_df['Weight'].mean(), yerr=sport_df['Weight'].std())\n",
        "\n",
        "\n",
        "ax.set_ylabel(\"Weight\")\n",
        "ax.set_xticklabels(sports, rotation=90)\n",
        "\n",
        "# Save the figure to file\n",
        "fig.savefig('sports_weights.png')"
      ],
      "metadata": {
        "id": "7Yg4XUMOvFCY"
      },
      "execution_count": null,
      "outputs": []
    },
    {
      "cell_type": "markdown",
      "source": [
        "### Set figure dimensions"
      ],
      "metadata": {
        "id": "zc8DXbfvuHFh"
      }
    },
    {
      "cell_type": "code",
      "source": [
        "# Set figure dimensions\n",
        "fig.set_size_inches([3, 5])"
      ],
      "metadata": {
        "id": "3vSemI_puJvL"
      },
      "execution_count": null,
      "outputs": []
    },
    {
      "cell_type": "markdown",
      "source": [
        "### save as"
      ],
      "metadata": {
        "id": "MNqrDRs8uNoP"
      }
    },
    {
      "cell_type": "code",
      "source": [
        "# save as a PNG\n",
        "fig.savefig('my_figure.png')\n",
        "fig.savefig('my_figure_300dpi.png', dpi=300)\n"
      ],
      "metadata": {
        "id": "aZV_wSIkrDEF"
      },
      "execution_count": null,
      "outputs": []
    },
    {
      "cell_type": "markdown",
      "source": [
        "## old"
      ],
      "metadata": {
        "id": "GnOuZ1u8E_LJ"
      }
    },
    {
      "cell_type": "code",
      "execution_count": null,
      "metadata": {
        "id": "U0dez_JHIh2z"
      },
      "outputs": [],
      "source": [
        "# Create a dictionary with the two lists\n",
        "movie_dict = {'years': [*range(2011,2021)],\n",
        "              'durations': [103, 101, 99, 100, 100, 95, 95, 96, 93, 90]}\n",
        "\n",
        "movie_dict['colors'] = [*map(lambda x: 'red' if x>=100 else 'blue', movie_dict['durations'])]\n",
        "\n",
        "# Import pandas under its usual alias\n",
        "import pandas as pd\n",
        "\n",
        "# Create a DataFrame from the dictionary\n",
        "durations_df = pd.DataFrame(movie_dict)"
      ]
    },
    {
      "cell_type": "code",
      "source": [
        "# Import matplotlib.pyplot under its usual alias and create a figure\n",
        "import matplotlib.pyplot as plt\n",
        "\n",
        "fig = plt.figure()\n",
        "\n",
        "# Draw a line plot of release_years and durations\n",
        "plt.plot(durations_df['years'],durations_df['durations'])\n",
        "\n",
        "# Create a title\n",
        "plt.title(\"Netflix Movie Durations 2011-2020\")\n",
        "\n",
        "# Show the plot\n",
        "plt.show()\n",
        "\n"
      ],
      "metadata": {
        "id": "7kuoj81OIt5U"
      },
      "execution_count": null,
      "outputs": []
    },
    {
      "cell_type": "code",
      "source": [
        "# Set the figure style and initalize a new figure\n",
        "plt.style.use('fivethirtyeight')\n",
        "# fig = plt.figure(figsize=(12,8))\n",
        "\n",
        "# Create a scatter plot of duration versus release_year\n",
        "plt.scatter(durations_df['years'],\n",
        "            durations_df['durations'],\n",
        "            c=movie_dict['colors'])\n",
        "\n",
        "# draw horizontal line\n",
        "plt.axhline(100, color='black', label=\"obs_diff\")\n",
        "\n",
        "# Create a title and axis labels\n",
        "plt.title(\"Movie duration by year of release\")\n",
        "plt.xlabel(\"Release year\")\n",
        "plt.ylabel(\"Duration (min)\")\n",
        "\n",
        "# Show the plot\n",
        "plt.show()"
      ],
      "metadata": {
        "id": "7t2JC_RqI1Sd"
      },
      "execution_count": null,
      "outputs": []
    },
    {
      "cell_type": "code",
      "source": [
        "import matplotlib.pyplot as plt\n",
        "import seaborn as sns\n",
        "\n",
        "ax = sns.lineplot(x=\"Overall rank\", y=\"Score\", data=df)\n",
        "ax = sns.scatterplot(x=\"GDP per capita\", y=\"Score\", hue=\"Generosity\", data=happiness)\n",
        "ax = sns.jointplot(x = 'age', y = 'value', data = valuation)\n",
        "plt.xticks(rotation = 45)\n",
        "plt.show()\n"
      ],
      "metadata": {
        "id": "4iMm1AL5HTUk"
      },
      "execution_count": null,
      "outputs": []
    }
  ]
}