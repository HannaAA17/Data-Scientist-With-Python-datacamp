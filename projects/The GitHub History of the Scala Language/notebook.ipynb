{
    "metadata": {
        "language_info": {
            "file_extension": ".py",
            "name": "python",
            "version": "3.5.2",
            "nbconvert_exporter": "python",
            "codemirror_mode": {
                "version": 3,
                "name": "ipython"
            },
            "pygments_lexer": "ipython3",
            "mimetype": "text/x-python"
        },
        "kernelspec": {
            "language": "python",
            "display_name": "Python 3",
            "name": "python3"
        }
    },
    "nbformat": 4,
    "cells": [
        {
            "metadata": {
                "editable": false,
                "dc": {
                    "key": "5"
                },
                "tags": [
                    "context"
                ],
                "deletable": false,
                "run_control": {
                    "frozen": true
                }
            },
            "cell_type": "markdown",
            "source": "## 1. Scala's real-world project repository data\n<p>With almost 30k commits and a history spanning over ten years, Scala is a mature programming language. It is a general-purpose programming language that has recently become another prominent language for data scientists.</p>\n<p>Scala is also an open source project. Open source projects have the advantage that their entire development histories -- who made changes, what was changed, code reviews, etc. -- are publicly available. </p>\n<p>We're going to read in, clean up, and visualize the real world project repository of Scala that spans data from a version control system (Git) as well as a project hosting site (GitHub). We will find out who has had the most influence on its development and who are the experts.</p>\n<p>The dataset we will use, which has been previously mined and extracted from GitHub, is comprised of three files:</p>\n<ol>\n<li><code>pulls_2011-2013.csv</code> contains the basic information about the pull requests, and spans from the end of 2011 up to (but not including) 2014.</li>\n<li><code>pulls_2014-2018.csv</code> contains identical information, and spans from 2014 up to 2018.</li>\n<li><code>pull_files.csv</code> contains the files that were modified by each pull request.</li>\n</ol>"
        },
        {
            "metadata": {
                "collapsed": true,
                "dc": {
                    "key": "5"
                },
                "tags": [
                    "sample_code"
                ],
                "trusted": true
            },
            "cell_type": "code",
            "source": "# Importing pandas\n# ... YOUR CODE FOR TASK 1 ...\nimport pandas as pd\n# Loading in the data\npulls_one = pd.read_csv('datasets/pulls_2011-2013.csv')\npulls_two = pd.read_csv('datasets/pulls_2014-2018.csv')\npull_files = pd.read_csv('datasets/pull_files.csv') ",
            "outputs": [],
            "execution_count": 335
        },
        {
            "metadata": {
                "editable": false,
                "dc": {
                    "key": "12"
                },
                "tags": [
                    "context"
                ],
                "deletable": false,
                "run_control": {
                    "frozen": true
                }
            },
            "cell_type": "markdown",
            "source": "## 2. Preparing and cleaning the data\n<p>First, we will need to combine the data from the two separate pull DataFrames. </p>\n<p>Next, the raw data extracted from GitHub contains dates in the ISO8601 format. However, <code>pandas</code> imports them as regular strings. To make our analysis easier, we need to convert the strings into Python's <code>DateTime</code> objects. <code>DateTime</code> objects have the important property that they can be compared and sorted.</p>\n<p>The pull request times are all in UTC (also known as Coordinated Universal Time). The commit times, however, are in the local time of the author with time zone information (number of hours difference from UTC). To make comparisons easy, we should convert all times to UTC.</p>"
        },
        {
            "metadata": {
                "dc": {
                    "key": "12"
                },
                "tags": [
                    "sample_code"
                ],
                "trusted": true
            },
            "cell_type": "code",
            "source": "# Append pulls_one to pulls_two\npulls = pulls_two.append(pulls_one, ignore_index=True)\n\n# Convert the date for the pulls object\npulls['date'] = pd.to_datetime(pulls['date'], utc=True)",
            "outputs": [],
            "execution_count": 337
        },
        {
            "metadata": {
                "editable": false,
                "dc": {
                    "key": "19"
                },
                "tags": [
                    "context"
                ],
                "deletable": false,
                "run_control": {
                    "frozen": true
                }
            },
            "cell_type": "markdown",
            "source": "## 3. Merging the DataFrames\n<p>The data extracted comes in two separate files. Merging the two DataFrames will make it easier for us to analyze the data in the future tasks.</p>"
        },
        {
            "metadata": {
                "dc": {
                    "key": "19"
                },
                "tags": [
                    "sample_code"
                ],
                "trusted": true
            },
            "cell_type": "code",
            "source": "# Merge the two DataFrames\ndata = pulls.merge(pull_files, on='pid')",
            "outputs": [],
            "execution_count": 339
        },
        {
            "metadata": {
                "editable": false,
                "dc": {
                    "key": "26"
                },
                "tags": [
                    "context"
                ],
                "deletable": false,
                "run_control": {
                    "frozen": true
                }
            },
            "cell_type": "markdown",
            "source": "## 4. Is the project still actively maintained?\n<p>The activity in an open source project is not very consistent. Some projects might be active for many years after the initial release, while others can slowly taper out into oblivion. Before committing to contributing to a project, it is important to understand the state of the project. Is development going steadily, or is there a drop? Has the project been abandoned altogether?</p>\n<p>The data used in this project was collected in January of 2018. We are interested in the evolution of the number of contributions up to that date.</p>\n<p>For Scala, we will do this by plotting a chart of the project's activity. We will calculate the number of pull requests submitted each (calendar) month during the project's lifetime. We will then plot these numbers to see the trend of contributions.</p>\n<ul>\n<li><p>A helpful reminder of how to access various components of a date can be found in <a href=\"https://campus.datacamp.com/courses/data-manipulation-with-pandas/slicing-and-indexing?ex=12\">this exercise of Data Manipulation with pandas</a></p></li>\n<li><p>Additionally, recall that you can group by multiple variables by passing a list to <code>groupby()</code>. This video from <a href=\"https://campus.datacamp.com/courses/data-manipulation-with-pandas/aggregating-data-ad6d4643-0e95-470c-8299-f69cc4c83de8?ex=9\">Data Manipulation with pandas</a> should help!</p></li>\n</ul>"
        },
        {
            "metadata": {
                "dc": {
                    "key": "26"
                },
                "tags": [
                    "sample_code"
                ],
                "trusted": true
            },
            "cell_type": "code",
            "source": "%matplotlib inline\n\n# Create a column that will store the month\ndata['month'] = pulls['date'].dt.month\n\n# Create a column that will store the year\ndata['year'] = pulls['date'].dt.year\n\n# Group by the month and year and count the pull requests\ncounts = data.groupby(['month', 'year'])['pid'].count()\n\n# Plot the results\ncounts.plot(kind='bar', figsize = (12,4))",
            "outputs": [
                {
                    "data": {
                        "text/plain": "<matplotlib.axes._subplots.AxesSubplot at 0x7fa4490634e0>"
                    },
                    "metadata": {},
                    "output_type": "execute_result",
                    "execution_count": 341
                },
                {
                    "data": {
                        "image/png": "[encoded data removed]",
                        "text/plain": "<Figure size 864x288 with 1 Axes>"
                    },
                    "metadata": {},
                    "output_type": "display_data"
                }
            ],
            "execution_count": 341
        },
        {
            "metadata": {
                "editable": false,
                "dc": {
                    "key": "33"
                },
                "tags": [
                    "context"
                ],
                "deletable": false,
                "run_control": {
                    "frozen": true
                }
            },
            "cell_type": "markdown",
            "source": "## 5. Is there camaraderie in the project?\n<p>The organizational structure varies from one project to another, and it can influence your success as a contributor. A project that has a very small community might not be the best one to start working on. The small community might indicate a high barrier of entry. This can be caused by several factors, including a community that is reluctant to accept pull requests from \"outsiders,\" that the code base is hard to work with, etc. However, a large community can serve as an indicator that the project is regularly accepting pull requests from new contributors. Such a project would be a good place to start.</p>\n<p>In order to evaluate the dynamics of the community, we will plot a histogram of the number of pull requests submitted by each user. A distribution that shows that there are few people that only contribute a small number of pull requests can be used as in indicator that the project is not welcoming of new contributors. </p>"
        },
        {
            "metadata": {
                "dc": {
                    "key": "33"
                },
                "tags": [
                    "sample_code"
                ],
                "trusted": true
            },
            "cell_type": "code",
            "source": "# Required for matplotlib\n%matplotlib inline\n\n# Group by the submitter\nby_user = data.groupby(['user'])['pid'].count()\n\n# Plot the histogram\n# ... YOUR CODE FOR TASK 5 ...\nby_user.hist()",
            "outputs": [
                {
                    "data": {
                        "text/plain": "<matplotlib.axes._subplots.AxesSubplot at 0x7fa4490ee4e0>"
                    },
                    "metadata": {},
                    "output_type": "execute_result",
                    "execution_count": 343
                },
                {
                    "data": {
                        "image/png": "[encoded data removed]",
                        "text/plain": "<Figure size 432x288 with 1 Axes>"
                    },
                    "metadata": {},
                    "output_type": "display_data"
                }
            ],
            "execution_count": 343
        },
        {
            "metadata": {
                "editable": false,
                "dc": {
                    "key": "40"
                },
                "tags": [
                    "context"
                ],
                "deletable": false,
                "run_control": {
                    "frozen": true
                }
            },
            "cell_type": "markdown",
            "source": "## 6. What files were changed in the last ten pull requests?\n<p>Choosing the right place to make a contribution is as important as choosing the project to contribute to. Some parts of the code might be stable, some might be dead. Contributing there might not have the most impact. Therefore it is important to understand the parts of the system that have been recently changed. This allows us to pinpoint the \"hot\" areas of the code where most of the activity is happening. Focusing on those parts might not the most effective use of our times.</p>"
        },
        {
            "metadata": {
                "dc": {
                    "key": "40"
                },
                "tags": [
                    "sample_code"
                ],
                "trusted": true
            },
            "cell_type": "code",
            "source": "# Identify the last 10 pull requests\nlast_10 = pulls.nlargest(10, 'date')\n\n# Join the two data sets\njoined_pr = last_10.merge(pull_files, on='pid', suffixes=('', '_y'))\n\n# Identify the unique files\nfiles = set(joined_pr['file'])\n\n# Print the results\nfiles",
            "outputs": [
                {
                    "data": {
                        "text/plain": "{'LICENSE',\n 'doc/LICENSE.md',\n 'doc/License.rtf',\n 'project/VersionUtil.scala',\n 'src/compiler/scala/reflect/reify/phases/Calculate.scala',\n 'src/compiler/scala/tools/nsc/backend/jvm/BCodeHelpers.scala',\n 'src/compiler/scala/tools/nsc/backend/jvm/PostProcessor.scala',\n 'src/compiler/scala/tools/nsc/backend/jvm/analysis/BackendUtils.scala',\n 'src/compiler/scala/tools/nsc/profile/AsyncHelper.scala',\n 'src/compiler/scala/tools/nsc/profile/Profiler.scala',\n 'src/compiler/scala/tools/nsc/symtab/classfile/ClassfileParser.scala',\n 'src/compiler/scala/tools/nsc/typechecker/Contexts.scala',\n 'src/library/scala/Predef.scala',\n 'src/library/scala/concurrent/Lock.scala',\n 'src/library/scala/util/Properties.scala',\n 'src/reflect/scala/reflect/internal/pickling/ByteCodecs.scala',\n 'src/reflect/scala/reflect/internal/tpe/GlbLubs.scala',\n 'src/scaladoc/scala/tools/nsc/doc/html/page/Entity.scala',\n 'src/scalap/decoder.properties',\n 'test/files/neg/leibniz-liskov.check',\n 'test/files/neg/leibniz-liskov.scala',\n 'test/files/pos/leibniz-liskov.scala',\n 'test/files/pos/leibniz_liskov.scala',\n 'test/files/pos/parallel-classloader.scala',\n 'test/files/pos/t10568/Converter.java',\n 'test/files/pos/t10568/Impl.scala',\n 'test/files/pos/t10686.scala',\n 'test/files/pos/t5638/Among.java',\n 'test/files/pos/t5638/Usage.scala',\n 'test/files/pos/t9291.scala',\n 'test/files/run/t8348.check',\n 'test/files/run/t8348/TableColumn.java',\n 'test/files/run/t8348/TableColumnImpl.java',\n 'test/files/run/t8348/Test.scala'}"
                    },
                    "metadata": {},
                    "output_type": "execute_result",
                    "execution_count": 345
                }
            ],
            "execution_count": 345
        },
        {
            "metadata": {
                "editable": false,
                "dc": {
                    "key": "47"
                },
                "tags": [
                    "context"
                ],
                "deletable": false,
                "run_control": {
                    "frozen": true
                }
            },
            "cell_type": "markdown",
            "source": "## 7. Who made the most pull requests to a given file?\n<p>When contributing to a project, we might need some guidance. We might find ourselves needing some information regarding the codebase. It is important direct any questions to the right person. Contributors to open source projects generally have other day jobs, so their time is limited. It is important to address our questions to the right people. One way to identify the right target for our inquiries is by using their contribution history.</p>\n<p>We identified <code>src/compiler/scala/reflect/reify/phases/Calculate.scala</code> as being recently changed. We are interested in the top 3 developers who changed that file. Those developers are the ones most likely to have the best understanding of the code.</p>"
        },
        {
            "metadata": {
                "dc": {
                    "key": "47"
                },
                "tags": [
                    "sample_code"
                ],
                "trusted": true
            },
            "cell_type": "code",
            "source": "# This is the file we are interested in:\nfile = 'src/compiler/scala/reflect/reify/phases/Calculate.scala'\n\n# Identify the commits that changed the file\nfile_pr = data[data['file'] == file]\n\n# Count the number of changes made by each developer\nauthor_counts = file_pr.groupby('user').count()\n\n# Print the top 3 developers\n# ... YOUR CODE FOR TASK 7 ...\nauthor_counts.nlargest(3, 'file')",
            "outputs": [
                {
                    "data": {
                        "text/html": "<div>\n<style scoped>\n    .dataframe tbody tr th:only-of-type {\n        vertical-align: middle;\n    }\n\n    .dataframe tbody tr th {\n        vertical-align: top;\n    }\n\n    .dataframe thead th {\n        text-align: right;\n    }\n</style>\n<table border=\"1\" class=\"dataframe\">\n  <thead>\n    <tr style=\"text-align: right;\">\n      <th></th>\n      <th>pid</th>\n      <th>date</th>\n      <th>file</th>\n      <th>month</th>\n      <th>year</th>\n    </tr>\n    <tr>\n      <th>user</th>\n      <th></th>\n      <th></th>\n      <th></th>\n      <th></th>\n      <th></th>\n    </tr>\n  </thead>\n  <tbody>\n    <tr>\n      <th>xeno-by</th>\n      <td>11</td>\n      <td>11</td>\n      <td>11</td>\n      <td>0</td>\n      <td>0</td>\n    </tr>\n    <tr>\n      <th>retronym</th>\n      <td>5</td>\n      <td>5</td>\n      <td>5</td>\n      <td>0</td>\n      <td>0</td>\n    </tr>\n    <tr>\n      <th>soc</th>\n      <td>4</td>\n      <td>4</td>\n      <td>4</td>\n      <td>0</td>\n      <td>0</td>\n    </tr>\n  </tbody>\n</table>\n</div>",
                        "text/plain": "          pid  date  file  month  year\nuser                                  \nxeno-by    11    11    11      0     0\nretronym    5     5     5      0     0\nsoc         4     4     4      0     0"
                    },
                    "metadata": {},
                    "output_type": "execute_result",
                    "execution_count": 347
                }
            ],
            "execution_count": 347
        },
        {
            "metadata": {
                "editable": false,
                "dc": {
                    "key": "54"
                },
                "tags": [
                    "context"
                ],
                "deletable": false,
                "run_control": {
                    "frozen": true
                }
            },
            "cell_type": "markdown",
            "source": "## 8. Who made the last ten pull requests on a given file?\n<p>Open source projects suffer from fluctuating membership. This makes the problem of finding the right person more challenging: the person has to be knowledgeable <em>and</em> still be involved in the project. A person that contributed a lot in the past might no longer be available (or willing) to help. To get a better understanding, we need to investigate the more recent history of that particular part of the system. </p>\n<p>Like in the previous task, we will look at the history of  <code>src/compiler/scala/reflect/reify/phases/Calculate.scala</code>.</p>"
        },
        {
            "metadata": {
                "dc": {
                    "key": "54"
                },
                "tags": [
                    "sample_code"
                ],
                "trusted": true
            },
            "cell_type": "code",
            "source": "file = 'src/compiler/scala/reflect/reify/phases/Calculate.scala'\n\n# Select the pull requests that changed the target file\nfile_pr = pull_files[pull_files['file'] == file]\n\n# Merge the obtained results with the pulls DataFrame\njoined_pr = pulls.merge(file_pr, on='pid')\n\n# Find the users of the last 10 most recent pull requests\nusers_last_10 = set(joined_pr.nlargest(10, 'date')['user'])\n\n# Printing the results\nusers_last_10",
            "outputs": [
                {
                    "data": {
                        "text/plain": "{'bjornregnell', 'retronym', 'soc', 'starblood', 'xeno-by', 'zuvizudar'}"
                    },
                    "metadata": {},
                    "output_type": "execute_result",
                    "execution_count": 349
                }
            ],
            "execution_count": 349
        },
        {
            "metadata": {
                "editable": false,
                "dc": {
                    "key": "61"
                },
                "tags": [
                    "context"
                ],
                "deletable": false,
                "run_control": {
                    "frozen": true
                }
            },
            "cell_type": "markdown",
            "source": "## 9. The pull requests of two special developers\n<p>Now that we have identified two potential contacts in the projects, we need to find the person who was most involved in the project in recent times. That person is most likely to answer our questions. For each calendar year, we are interested in understanding the number of pull requests the authors submitted. This will give us a high-level image of their contribution trend to the project.</p>"
        },
        {
            "metadata": {
                "dc": {
                    "key": "61"
                },
                "scrolled": true,
                "tags": [
                    "sample_code"
                ],
                "trusted": true
            },
            "cell_type": "code",
            "source": "%matplotlib inline\n\n# The developers we are interested in\nauthors = ['xeno-by', 'soc']\n\n# Get all the developers' pull requests\nby_author = pulls.query('user in @authors')\n\n# Count the number of pull requests submitted each year\ncounts = by_author.groupby(['user', by_author['date'].dt.year]).agg({'pid': 'count'}).reset_index()\n\n# Convert the table to a wide format\ncounts_wide = counts.pivot_table(index='date', columns='user', values='pid', fill_value=0)\n\n# Plot the results\n# ... YOUR CODE FOR TASK 9 ...\ncounts_wide.plot(kind='bar')",
            "outputs": [
                {
                    "data": {
                        "text/plain": "<matplotlib.axes._subplots.AxesSubplot at 0x7fa436b55780>"
                    },
                    "metadata": {},
                    "output_type": "execute_result",
                    "execution_count": 351
                },
                {
                    "data": {
                        "image/png": "[encoded data removed]",
                        "text/plain": "<Figure size 432x288 with 1 Axes>"
                    },
                    "metadata": {},
                    "output_type": "display_data"
                }
            ],
            "execution_count": 351
        },
        {
            "metadata": {
                "editable": false,
                "dc": {
                    "key": "68"
                },
                "tags": [
                    "context"
                ],
                "deletable": false,
                "run_control": {
                    "frozen": true
                }
            },
            "cell_type": "markdown",
            "source": "## 10. Visualizing the contributions of each developer\n<p>As mentioned before, it is important to make a distinction between the global expertise and contribution levels and the contribution levels at a more granular level (file, submodule, etc.) In our case, we want to see which of our two developers of interest have the most experience with the code in a given file. We will measure experience by the number of pull requests submitted that affect that file and how recent those pull requests were submitted.</p>"
        },
        {
            "metadata": {
                "dc": {
                    "key": "68"
                },
                "tags": [
                    "sample_code"
                ],
                "trusted": true
            },
            "cell_type": "code",
            "source": "authors = ['xeno-by', 'soc']\nfile = 'src/compiler/scala/reflect/reify/phases/Calculate.scala'\n\n# Merge DataFrames and select the pull requests by the author\nby_author = data[data['user'].isin(authors)]\n\n# Select the pull requests that affect the file\nby_file = by_author[by_author['file'] == file]\n\n# Group and count the number of PRs done by each user each year\ngrouped = by_file.groupby(['user', by_file['date'].dt.year]).count()['pid'].reset_index()\n\n# Transform the data into a wide format\nby_file_wide = grouped.pivot_table(index='date', columns='user', values='pid', fill_value=0)\n\n# Plot the results\nby_file_wide.plot(kind='bar')",
            "outputs": [
                {
                    "data": {
                        "text/plain": "<matplotlib.axes._subplots.AxesSubplot at 0x7fa436acb2b0>"
                    },
                    "metadata": {},
                    "output_type": "execute_result",
                    "execution_count": 353
                },
                {
                    "data": {
                        "image/png": "[encoded data removed]",
                        "text/plain": "<Figure size 432x288 with 1 Axes>"
                    },
                    "metadata": {},
                    "output_type": "display_data"
                }
            ],
            "execution_count": 353
        }
    ],
    "nbformat_minor": 2
}
